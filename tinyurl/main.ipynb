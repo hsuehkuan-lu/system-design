{
 "cells": [
  {
   "cell_type": "markdown",
   "id": "1552af3b-27c1-4e77-9ffb-bd6ce18c2f59",
   "metadata": {},
   "source": [
    "# TinyURL System Design\n",
    "\n",
    "Course from [TinyURL](https://www.educative.io/courses/grokking-the-system-design-interview/m2ygV4E81AR), providing short aliases redirecting to long URLs."
   ]
  },
  {
   "cell_type": "markdown",
   "id": "c67dd63e-f118-4b4d-85ff-c975df2eca90",
   "metadata": {},
   "source": [
    "# Purpose\n",
    "\n",
    "URL shortening is used to create shorter aliases for long URLs.\n",
    "\n",
    "1. Save space\n",
    "2. Avoid mistype"
   ]
  },
  {
   "cell_type": "markdown",
   "id": "064826ce-6b5c-4124-80c7-17e8f1d5254f",
   "metadata": {},
   "source": [
    "# Requirements and Goals\n",
    "\n",
    "Before designing the system, the requirements should be clarified clearly.\n",
    "\n",
    "## Functional Requirements\n",
    "\n",
    "1. Given a URL, system should generate a shorter and unique alias of it. This link should be short enough to be easily copied and pasted into applications.\n",
    "2. When users access a short link, our service should redirect them to the original link.\n",
    "3. Users should optionally be able to pick a custom short link for their URL.\n",
    "4. Links will expire after a standard default timespan, which users should be able to specify.\n",
    "\n",
    "## Non-Functional Requirements\n",
    "\n",
    "1. Highly available\n",
    "2. Real-time response\n",
    "3. Shortened links should not be guessable\n",
    "\n",
    "## Extended Requirements\n",
    "\n",
    "1. Analytics\n",
    "2. Open REST APIs"
   ]
  },
  {
   "cell_type": "markdown",
   "id": "f349acc0-144f-4fdd-86a3-3bda9c4326e1",
   "metadata": {},
   "source": [
    "# Capacity Estinmation and Constraints\n",
    "\n",
    "The system should be read-heavy. There should be lots of redirection requests compared to new URL shortenings.\n",
    "\n",
    "At first we can assume **the ratio is 100:1** between read and write.\n",
    "\n",
    "## Traffic Estimates\n",
    "\n",
    "Assume we have 500M new shortenings per month, we can expect 50B redirections during the same period:\n",
    "\n",
    "$$\n",
    "100 * 500M => 50B\n",
    "$$\n",
    "\n",
    "And Queries Per Second (QPS) can be estimated:\n",
    "\n",
    "$$\n",
    "500M / (30 days * 24 hours * 3600 seconds) \\approx 200 URLs/s\n",
    "$$\n",
    "\n"
   ]
  },
  {
   "cell_type": "code",
   "execution_count": null,
   "id": "97e0a4d4-ac5d-46d0-983b-0fce9bffe407",
   "metadata": {},
   "outputs": [],
   "source": []
  }
 ],
 "metadata": {
  "kernelspec": {
   "display_name": "Python 3 (ipykernel)",
   "language": "python",
   "name": "python3"
  },
  "language_info": {
   "codemirror_mode": {
    "name": "ipython",
    "version": 3
   },
   "file_extension": ".py",
   "mimetype": "text/x-python",
   "name": "python",
   "nbconvert_exporter": "python",
   "pygments_lexer": "ipython3",
   "version": "3.8.11"
  }
 },
 "nbformat": 4,
 "nbformat_minor": 5
}
