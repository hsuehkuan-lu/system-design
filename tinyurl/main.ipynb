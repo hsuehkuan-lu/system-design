{
 "cells": [
  {
   "cell_type": "markdown",
   "metadata": {},
   "source": [
    "# TinyURL System Design\n",
    "\n",
    "Course from [TinyURL](https://www.educative.io/courses/grokking-the-system-design-interview/m2ygV4E81AR), providing short aliases redirecting to long URLs."
   ]
  },
  {
   "cell_type": "markdown",
   "metadata": {},
   "source": [
    "# Purpose\n",
    "\n",
    "URL shortening is used to create shorter aliases for long URLs.\n",
    "\n",
    "1. Save space\n",
    "2. Avoid mistype"
   ]
  },
  {
   "cell_type": "markdown",
   "metadata": {},
   "source": [
    "# Requirements and Goals\n",
    "\n",
    "Before designing the system, the requirements should be clarified clearly.\n",
    "\n",
    "## Functional Requirements\n",
    "\n",
    "1. Given a URL, system should generate a shorter and unique alias of it. This link should be short enough to be easily copied and pasted into applications.\n",
    "2. When users access a short link, our service should redirect them to the original link.\n",
    "3. Users should optionally be able to pick a custom short link for their URL.\n",
    "4. Links will expire after a standard default timespan, which users should be able to specify.\n",
    "\n",
    "## Non-Functional Requirements\n",
    "\n",
    "1. Highly available\n",
    "2. Real-time response\n",
    "3. Shortened links should not be guessable\n",
    "\n",
    "## Extended Requirements\n",
    "\n",
    "1. Analytics\n",
    "2. Open REST APIs"
   ]
  },
  {
   "cell_type": "markdown",
   "metadata": {},
   "source": [
    "# Capacity Estinmation and Constraints\n",
    "\n",
    "The system should be read-heavy. There should be lots of redirection requests compared to new URL shortenings.\n",
    "\n",
    "At first we can assume **the ratio is 100:1** between read and write.\n",
    "\n",
    "## Traffic Estimates\n",
    "\n",
    "Assume we have 500M new shortenings per month, we can expect 50B redirections during the same period:\n",
    "\n",
    "$$\n",
    "100 * 500M => 50B\n",
    "$$\n",
    "\n",
    "And Queries Per Second (QPS) can be estimated:\n",
    "\n",
    "$$\n",
    "500M / (30 days * 24 hours * 3600 seconds) \\approx 200 URLs/s\n",
    "$$\n",
    "\n",
    "Based on the 100:1 read/write ratio, URLs redirections per second will be:\n",
    "\n",
    "$$\n",
    "100 * 200 URLs/s = 20K/s\n",
    "$$\n",
    "\n",
    "## Storage Estimates\n",
    "\n",
    "Assume the lifetime of URL shortening request is 5 years. We expect to have 500M new URLs every month, and thus the total requests will be 30B:\n",
    "\n",
    "$$\n",
    "500M * 5 years * 12 months = 30B\n",
    "$$\n",
    "\n",
    "If each stored object is 500 bytes, we will need 15TB for total storage:\n",
    "\n",
    "$$\n",
    "30B * 500 bytes = 15TB\n",
    "$$\n",
    "\n",
    "## Bandwidth Estimates\n",
    "\n",
    "Based on the QPS 200 URLs per second, we can estimate the bandwidth is 100KB per second:\n",
    "\n",
    "- Write:\n",
    "\n",
    "$$\n",
    "200 * 500 bytes = 100 KB/s\n",
    "$$\n",
    "\n",
    "- Read:\n",
    "\n",
    "$$\n",
    "20K * 500 bytes \\approx 10MB/s\n",
    "$$\n",
    "\n",
    "## Memory Estimates\n",
    "\n",
    "Because some of the URLs are more popular than most of them, and we can use Pareto Rule (80/20) first to cache the 20% URLs.\n",
    "\n",
    "Assume we have 20K requests per second, we expect to get 1.7B requests per day:\n",
    "\n",
    "$$\n",
    "20K * 3600 * 24 \\approx 1.7B\n",
    "$$\n",
    "\n",
    "To cache 20% of the 1.7B requests, we will require 170GB to cache hot URLs:\n",
    "\n",
    "$$\n",
    "1.7B * 20\\% * 500 bytes \\approx 170GB\n",
    "$$\n",
    "\n",
    "In the real condition, there should be many duplicate URLs, and thus our actual memory usage might be less than 170GB.\n",
    "\n",
    "## High-Level Estimates\n",
    "\n",
    "To sum up all the estimations above:\n",
    "\n",
    "| Types of URLs | Time Estimates |\n",
    "| --- | --- |\n",
    "| New URLs | 200/s |\n",
    "| URL redirections | 20K/s |\n",
    "| Incoming Data | 100KB/s |\n",
    "| Outcoming Data | 10MB/s |\n",
    "| Storage for 5 years |  15TB |\n",
    "| Memory for cache | 170GB |"
   ]
  },
  {
   "cell_type": "code",
   "execution_count": null,
   "outputs": [],
   "source": [
    "200 * 500"
   ],
   "metadata": {
    "collapsed": false,
    "pycharm": {
     "name": "#%%\n"
    }
   }
  },
  {
   "cell_type": "code",
   "execution_count": 2,
   "metadata": {},
   "outputs": [
    {
     "data": {
      "text/plain": [
       "100000"
      ]
     },
     "execution_count": 2,
     "metadata": {},
     "output_type": "execute_result"
    }
   ],
   "source": []
  },
  {
   "cell_type": "code",
   "execution_count": null,
   "metadata": {},
   "outputs": [],
   "source": []
  }
 ],
 "metadata": {
  "kernelspec": {
   "display_name": "Python 3",
   "language": "python",
   "name": "python3"
  },
  "language_info": {
   "codemirror_mode": {
    "name": "ipython",
    "version": 3
   },
   "file_extension": ".py",
   "mimetype": "text/x-python",
   "name": "python",
   "nbconvert_exporter": "python",
   "pygments_lexer": "ipython3",
   "version": "3.8.3"
  }
 },
 "nbformat": 4,
 "nbformat_minor": 5
}